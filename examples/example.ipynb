{
 "cells": [
  {
   "cell_type": "code",
   "execution_count": 1,
   "id": "1967a0f9",
   "metadata": {},
   "outputs": [],
   "source": [
    "%load_ext autoreload\n",
    "%autoreload 2"
   ]
  },
  {
   "cell_type": "code",
   "execution_count": 2,
   "id": "511efb90",
   "metadata": {},
   "outputs": [],
   "source": [
    "import warnings\n",
    "\n",
    "warnings.simplefilter(\"ignore\")"
   ]
  },
  {
   "cell_type": "code",
   "execution_count": 3,
   "id": "e7ee342c",
   "metadata": {},
   "outputs": [
    {
     "data": {
      "application/vnd.jupyter.widget-view+json": {
       "model_id": "807233d7c14749ae996229dba5d2ba08",
       "version_major": 2,
       "version_minor": 0
      },
      "text/plain": []
     },
     "metadata": {},
     "output_type": "display_data"
    }
   ],
   "source": [
    "from nvcs import viewer"
   ]
  },
  {
   "cell_type": "code",
   "execution_count": 4,
   "id": "cf65c198",
   "metadata": {},
   "outputs": [],
   "source": [
    "import nglview as nv\n",
    "import numpy as np\n",
    "from pymatgen.core import Structure, Lattice"
   ]
  },
  {
   "cell_type": "markdown",
   "id": "4270234a",
   "metadata": {},
   "source": [
    "### Basic"
   ]
  },
  {
   "cell_type": "code",
   "execution_count": 5,
   "id": "0a438eed",
   "metadata": {
    "code_folding": []
   },
   "outputs": [],
   "source": [
    "# Rutile structure adpted from mp-2657\n",
    "a = 4.653\n",
    "c = 2.969\n",
    "x_4f = 0.3046\n",
    "\n",
    "lattice = Lattice.from_parameters(a, a, c, 90, 90, 90)\n",
    "species = [\"Ti\", \"Ti\", \"O\", \"O\", \"O\", \"O\"]\n",
    "frac_coords = np.array(\n",
    "    [\n",
    "        [0, 0, 0],  # Ti(2a)\n",
    "        [0.5, 0.5, 0.5],  # Ti(2a)\n",
    "        [x_4f, x_4f, 0],  # O(4f)\n",
    "        [1 - x_4f, 1 - x_4f, 0],  # O(4f)\n",
    "        [0.5 - x_4f, 0.5 + x_4f, 0.5],  # O(4f)\n",
    "        [0.5 + x_4f, 0.5 - x_4f, 0.5],  # O(4f)\n",
    "    ]\n",
    ")\n",
    "structure = Structure(lattice, species, frac_coords)"
   ]
  },
  {
   "cell_type": "code",
   "execution_count": 6,
   "id": "f28b6d25",
   "metadata": {},
   "outputs": [
    {
     "data": {
      "application/vnd.jupyter.widget-view+json": {
       "model_id": "3b0df5443e32458c86ec05c4a89b569b",
       "version_major": 2,
       "version_minor": 0
      },
      "text/plain": [
       "NGLWidget()"
      ]
     },
     "metadata": {},
     "output_type": "display_data"
    }
   ],
   "source": [
    "view = viewer(structure)\n",
    "view"
   ]
  },
  {
   "cell_type": "code",
   "execution_count": 7,
   "id": "14d9854a",
   "metadata": {
    "scrolled": false
   },
   "outputs": [],
   "source": [
    "view.download_image(\"rutile.png\")"
   ]
  },
  {
   "cell_type": "markdown",
   "id": "1d92433f",
   "metadata": {},
   "source": [
    "### Magnetic moments"
   ]
  },
  {
   "cell_type": "code",
   "execution_count": 8,
   "id": "57413eb8",
   "metadata": {},
   "outputs": [],
   "source": [
    "# Antiferromagnetic NiS adapted from MAGNDATA\n",
    "# http://webbdcrista1.ehu.es/magndata/index.php?this_label=1.6\n",
    "a = 5.687\n",
    "\n",
    "lattice = Lattice(a * np.eye(3))\n",
    "species = [\"Ni\"] * 4 + [\"O\"] * 4\n",
    "frac_coords = np.array(\n",
    "    [\n",
    "        [0.0, 0.0, 0.0],  # Ni\n",
    "        [0.0, 0.5, 0.5],  # Ni\n",
    "        [0.5, 0.0, 0.5],  # Ni\n",
    "        [0.5, 0.5, 0.0],  # Ni\n",
    "        [0.5, 0.5, 0.5],  # O\n",
    "        [0.5, 0.0, 0.0],  # O\n",
    "        [0.0, 0.5, 0.0],  # O\n",
    "        [0.0, 0.0, 0.5],  # O\n",
    "    ]\n",
    ")\n",
    "mx = 0.569\n",
    "magmom = np.array(\n",
    "    [\n",
    "        [mx, mx, mx],\n",
    "        [-mx, mx, -mx],\n",
    "        [-mx, -mx, mx],\n",
    "        [mx, -mx, -mx],\n",
    "        [0.0, 0.0, 0.0],\n",
    "        [0.0, 0.0, 0.0],\n",
    "        [0.0, 0.0, 0.0],\n",
    "        [0.0, 0.0, 0.0],\n",
    "    ]\n",
    ")\n",
    "structure = Structure(lattice, species, frac_coords, site_properties={\"magmom\": magmom})"
   ]
  },
  {
   "cell_type": "code",
   "execution_count": 9,
   "id": "827c3639",
   "metadata": {},
   "outputs": [
    {
     "data": {
      "application/vnd.jupyter.widget-view+json": {
       "model_id": "3292ec9c9b234c5ea1406e1467cbd692",
       "version_major": 2,
       "version_minor": 0
      },
      "text/plain": [
       "NGLWidget()"
      ]
     },
     "metadata": {},
     "output_type": "display_data"
    }
   ],
   "source": [
    "view = viewer(structure, show_magmom=True, width=400, height=400)\n",
    "view"
   ]
  },
  {
   "cell_type": "code",
   "execution_count": 10,
   "id": "4f3f05bc",
   "metadata": {},
   "outputs": [],
   "source": [
    "# this block should be separated from the next block!\n",
    "image = view.render_image()"
   ]
  },
  {
   "cell_type": "code",
   "execution_count": 11,
   "id": "36a0468e",
   "metadata": {},
   "outputs": [],
   "source": [
    "with open(\"NiS.png\", \"wb\") as f:\n",
    "    f.write(image.value)"
   ]
  },
  {
   "cell_type": "markdown",
   "id": "db579ab5",
   "metadata": {},
   "source": [
    "### Changing site-connection algorithm"
   ]
  },
  {
   "cell_type": "code",
   "execution_count": 12,
   "id": "54108021",
   "metadata": {},
   "outputs": [],
   "source": [
    "from pymatgen.analysis.local_env import CrystalNN"
   ]
  },
  {
   "cell_type": "code",
   "execution_count": 13,
   "id": "a3216ef7",
   "metadata": {},
   "outputs": [],
   "source": [
    "# alpha-quartz (P6_{2}22) adapted from mp-6922\n",
    "a = 5.106\n",
    "c = 5.590\n",
    "x_6j = 0.2082\n",
    "lattice = np.array(\n",
    "    [a * np.array([1, 0, 0]), a * np.array([-1 / 2, np.sqrt(3) / 2, 0]), c * np.array([0, 0, 1])]\n",
    ")\n",
    "species = [\"Si\"] * 3 + [\"O\"] * 6\n",
    "frac_coords = np.array(\n",
    "    [\n",
    "        [1 / 2, 0, 0],  # Si(3c)\n",
    "        [0, 1 / 2, 2 / 3],  # Si(3c)\n",
    "        [1 / 2, 1 / 2, 1 / 3],  # Si(3c)\n",
    "        [x_6j, 2 * x_6j, 1 / 2],  # O(6j)\n",
    "        [-2 * x_6j, -x_6j, 1 / 6],  # O(6j)\n",
    "        [x_6j, -x_6j, 5 / 6],  # O(6j)\n",
    "        [-x_6j, -2 * x_6j, 1 / 2],  # O(6j)\n",
    "        [2 * x_6j, x_6j, 1 / 6],  # O(6j)\n",
    "        [-x_6j, x_6j, 5 / 6],  # O(6j)\n",
    "    ]\n",
    ")\n",
    "structure = Structure(lattice, species, frac_coords)\n",
    "\n",
    "oxidation_states = {\"Si\": 1, \"O\": -2}\n",
    "structure.add_oxidation_state_by_element(oxidation_states)"
   ]
  },
  {
   "cell_type": "code",
   "execution_count": 14,
   "id": "c1813286",
   "metadata": {},
   "outputs": [
    {
     "data": {
      "application/vnd.jupyter.widget-view+json": {
       "model_id": "d2727b98c0e54827b3f0150ebccb52ea",
       "version_major": 2,
       "version_minor": 0
      },
      "text/plain": [
       "NGLWidget()"
      ]
     },
     "metadata": {},
     "output_type": "display_data"
    }
   ],
   "source": [
    "local_env_strategy = CrystalNN(cation_anion=True)\n",
    "view = viewer(structure, local_env_strategy=local_env_strategy, show_outside_bonds=True)\n",
    "view"
   ]
  },
  {
   "cell_type": "code",
   "execution_count": 15,
   "id": "f2e05780",
   "metadata": {},
   "outputs": [],
   "source": [
    "view.download_image(\"hi_quartz.png\")"
   ]
  },
  {
   "cell_type": "code",
   "execution_count": null,
   "id": "d0fd43fd",
   "metadata": {},
   "outputs": [],
   "source": []
  }
 ],
 "metadata": {
  "kernelspec": {
   "display_name": "Python 3 (ipykernel)",
   "language": "python",
   "name": "python3"
  },
  "language_info": {
   "codemirror_mode": {
    "name": "ipython",
    "version": 3
   },
   "file_extension": ".py",
   "mimetype": "text/x-python",
   "name": "python",
   "nbconvert_exporter": "python",
   "pygments_lexer": "ipython3",
   "version": "3.10.12"
  },
  "toc": {
   "base_numbering": 1,
   "nav_menu": {},
   "number_sections": true,
   "sideBar": true,
   "skip_h1_title": false,
   "title_cell": "Table of Contents",
   "title_sidebar": "Contents",
   "toc_cell": false,
   "toc_position": {},
   "toc_section_display": true,
   "toc_window_display": false
  }
 },
 "nbformat": 4,
 "nbformat_minor": 5
}
